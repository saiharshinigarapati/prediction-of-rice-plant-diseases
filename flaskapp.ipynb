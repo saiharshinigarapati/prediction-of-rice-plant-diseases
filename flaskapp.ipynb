{
 "cells": [
  {
   "cell_type": "code",
   "execution_count": 1,
   "metadata": {},
   "outputs": [
    {
     "name": "stderr",
     "output_type": "stream",
     "text": [
      "C:\\Users\\Harshini\\Anaconda\\lib\\site-packages\\h5py\\__init__.py:36: FutureWarning: Conversion of the second argument of issubdtype from `float` to `np.floating` is deprecated. In future, it will be treated as `np.float64 == np.dtype(float).type`.\n",
      "  from ._conv import register_converters as _register_converters\n",
      "Using TensorFlow backend.\n",
      "C:\\Users\\Harshini\\AppData\\Roaming\\Python\\Python36\\site-packages\\tensorflow\\python\\framework\\dtypes.py:516: FutureWarning: Passing (type, 1) or '1type' as a synonym of type is deprecated; in a future version of numpy, it will be understood as (type, (1,)) / '(1,)type'.\n",
      "  _np_qint8 = np.dtype([(\"qint8\", np.int8, 1)])\n",
      "C:\\Users\\Harshini\\AppData\\Roaming\\Python\\Python36\\site-packages\\tensorflow\\python\\framework\\dtypes.py:517: FutureWarning: Passing (type, 1) or '1type' as a synonym of type is deprecated; in a future version of numpy, it will be understood as (type, (1,)) / '(1,)type'.\n",
      "  _np_quint8 = np.dtype([(\"quint8\", np.uint8, 1)])\n",
      "C:\\Users\\Harshini\\AppData\\Roaming\\Python\\Python36\\site-packages\\tensorflow\\python\\framework\\dtypes.py:518: FutureWarning: Passing (type, 1) or '1type' as a synonym of type is deprecated; in a future version of numpy, it will be understood as (type, (1,)) / '(1,)type'.\n",
      "  _np_qint16 = np.dtype([(\"qint16\", np.int16, 1)])\n",
      "C:\\Users\\Harshini\\AppData\\Roaming\\Python\\Python36\\site-packages\\tensorflow\\python\\framework\\dtypes.py:519: FutureWarning: Passing (type, 1) or '1type' as a synonym of type is deprecated; in a future version of numpy, it will be understood as (type, (1,)) / '(1,)type'.\n",
      "  _np_quint16 = np.dtype([(\"quint16\", np.uint16, 1)])\n",
      "C:\\Users\\Harshini\\AppData\\Roaming\\Python\\Python36\\site-packages\\tensorflow\\python\\framework\\dtypes.py:520: FutureWarning: Passing (type, 1) or '1type' as a synonym of type is deprecated; in a future version of numpy, it will be understood as (type, (1,)) / '(1,)type'.\n",
      "  _np_qint32 = np.dtype([(\"qint32\", np.int32, 1)])\n",
      "C:\\Users\\Harshini\\AppData\\Roaming\\Python\\Python36\\site-packages\\tensorflow\\python\\framework\\dtypes.py:525: FutureWarning: Passing (type, 1) or '1type' as a synonym of type is deprecated; in a future version of numpy, it will be understood as (type, (1,)) / '(1,)type'.\n",
      "  np_resource = np.dtype([(\"resource\", np.ubyte, 1)])\n",
      "C:\\Users\\Harshini\\AppData\\Roaming\\Python\\Python36\\site-packages\\tensorboard\\compat\\tensorflow_stub\\dtypes.py:541: FutureWarning: Passing (type, 1) or '1type' as a synonym of type is deprecated; in a future version of numpy, it will be understood as (type, (1,)) / '(1,)type'.\n",
      "  _np_qint8 = np.dtype([(\"qint8\", np.int8, 1)])\n",
      "C:\\Users\\Harshini\\AppData\\Roaming\\Python\\Python36\\site-packages\\tensorboard\\compat\\tensorflow_stub\\dtypes.py:542: FutureWarning: Passing (type, 1) or '1type' as a synonym of type is deprecated; in a future version of numpy, it will be understood as (type, (1,)) / '(1,)type'.\n",
      "  _np_quint8 = np.dtype([(\"quint8\", np.uint8, 1)])\n",
      "C:\\Users\\Harshini\\AppData\\Roaming\\Python\\Python36\\site-packages\\tensorboard\\compat\\tensorflow_stub\\dtypes.py:543: FutureWarning: Passing (type, 1) or '1type' as a synonym of type is deprecated; in a future version of numpy, it will be understood as (type, (1,)) / '(1,)type'.\n",
      "  _np_qint16 = np.dtype([(\"qint16\", np.int16, 1)])\n",
      "C:\\Users\\Harshini\\AppData\\Roaming\\Python\\Python36\\site-packages\\tensorboard\\compat\\tensorflow_stub\\dtypes.py:544: FutureWarning: Passing (type, 1) or '1type' as a synonym of type is deprecated; in a future version of numpy, it will be understood as (type, (1,)) / '(1,)type'.\n",
      "  _np_quint16 = np.dtype([(\"quint16\", np.uint16, 1)])\n",
      "C:\\Users\\Harshini\\AppData\\Roaming\\Python\\Python36\\site-packages\\tensorboard\\compat\\tensorflow_stub\\dtypes.py:545: FutureWarning: Passing (type, 1) or '1type' as a synonym of type is deprecated; in a future version of numpy, it will be understood as (type, (1,)) / '(1,)type'.\n",
      "  _np_qint32 = np.dtype([(\"qint32\", np.int32, 1)])\n",
      "C:\\Users\\Harshini\\AppData\\Roaming\\Python\\Python36\\site-packages\\tensorboard\\compat\\tensorflow_stub\\dtypes.py:550: FutureWarning: Passing (type, 1) or '1type' as a synonym of type is deprecated; in a future version of numpy, it will be understood as (type, (1,)) / '(1,)type'.\n",
      "  np_resource = np.dtype([(\"resource\", np.ubyte, 1)])\n"
     ]
    }
   ],
   "source": [
    "import numpy as np\n",
    "from os import listdir\n",
    "from sklearn import svm,datasets,metrics\n",
    "import os\n",
    "import h5py\n",
    "import cv2\n",
    "from keras.preprocessing.image import img_to_array\n",
    "import matplotlib.pyplot as plt\n",
    "from sklearn.preprocessing import LabelEncoder\n",
    "from sklearn.preprocessing import MinMaxScaler\n",
    "import numpy as np\n",
    "import glob\n",
    "import warnings\n",
    "from skimage.feature import local_binary_pattern\n",
    "# To calculate a normalized histogram \n",
    "from scipy.stats import itemfreq\n",
    "from sklearn.preprocessing import normalize\n",
    "# Utility package -- use pip install cvutils to install\n",
    "import cvutils\n",
    "# To read class from file\n",
    "import csv\n",
    " \n",
    "\n",
    "\n",
    "\n"
   ]
  },
  {
   "cell_type": "code",
   "execution_count": 2,
   "metadata": {},
   "outputs": [
    {
     "name": "stderr",
     "output_type": "stream",
     "text": [
      "C:\\Users\\Harshini\\Anaconda\\lib\\site-packages\\sklearn\\ensemble\\weight_boosting.py:29: DeprecationWarning: numpy.core.umath_tests is an internal NumPy module and should not be imported. It will be removed in a future NumPy release.\n",
      "  from numpy.core.umath_tests import inner1d\n"
     ]
    }
   ],
   "source": [
    "from matplotlib import pyplot\n",
    "from sklearn.model_selection import train_test_split, cross_val_score\n",
    "from sklearn.model_selection import KFold, StratifiedKFold\n",
    "from sklearn.metrics import confusion_matrix, accuracy_score, classification_report\n",
    "from sklearn.linear_model import LogisticRegression\n",
    "from sklearn.tree import DecisionTreeClassifier\n",
    "from sklearn.ensemble import RandomForestClassifier\n",
    "from sklearn.neighbors import KNeighborsClassifier\n",
    "from sklearn.discriminant_analysis import LinearDiscriminantAnalysis\n",
    "from sklearn.naive_bayes import GaussianNB\n",
    "from sklearn.svm import SVC\n",
    "from sklearn.externals import joblib\n",
    "from skimage import io, util\n",
    "from skimage.feature.texture import greycomatrix, greycoprops\n",
    "\n"
   ]
  },
  {
   "cell_type": "code",
   "execution_count": 3,
   "metadata": {},
   "outputs": [],
   "source": [
    "#initialze the variables\n",
    "\n",
    "default_image_size = tuple((256, 256))\n",
    "directory_root = '../mlapp/leafimages/'\n",
    "bins=8\n",
    "h5_data          = 'data.h5'\n",
    "h5_labels        = 'labels.h5'\n",
    "num_trees = 100\n",
    "test_size = 0.10\n",
    "seed      = 9\n",
    "train_path = \"leafimages\"\n",
    "test_path  = \"test\"\n",
    "h5_data    = 'data.h5'\n",
    "h5_labels  = 'labels.h5'\n",
    "scoring    = \"accuracy\"\n"
   ]
  },
  {
   "cell_type": "code",
   "execution_count": 4,
   "metadata": {},
   "outputs": [],
   "source": [
    "def fd_histogram(image, mask=None):\n",
    "    # convert the image to HSV color-space\n",
    "    image = cv2.cvtColor(image, cv2.COLOR_BGR2HSV)\n",
    "    # compute the color histogram\n",
    "    hist  = cv2.calcHist([image], [0, 1, 2], None, [bins, bins, bins], [0, 256, 0, 256, 0, 256])\n",
    "    # normalize the histogram\n",
    "    cv2.normalize(hist, hist)\n",
    "    # return the histogram\n",
    "    return hist.flatten()"
   ]
  },
  {
   "cell_type": "code",
   "execution_count": 5,
   "metadata": {},
   "outputs": [],
   "source": [
    "#Function to convert images to array\n",
    "\n",
    "def convert_image_to_array(image_dir):\n",
    "    try:\n",
    "        image = cv2.imread(image_dir)\n",
    "        if image is not None :\n",
    "            image = cv2.resize(image, default_image_size)   \n",
    "            return img_to_array(image)\n",
    "        else :\n",
    "            return np.array([])\n",
    "    except Exception as e:\n",
    "        print(f\"Error : {e}\")\n",
    "        return None\n"
   ]
  },
  {
   "cell_type": "code",
   "execution_count": 6,
   "metadata": {},
   "outputs": [],
   "source": [
    "def LBP(image):\n",
    "    # List for storing the LBP Histograms, address of images and the corresponding label \n",
    "                X_test = []\n",
    "               \n",
    "            # For each image in the training set calculate the LBP histogram\n",
    "            # and update X_test, X_name and y_test\n",
    "                # Read the image\n",
    "                im = cv2.imread(image)\n",
    "                # Convert to grayscale as LBP works on grayscale image\n",
    "                im_gray = cv2.cvtColor(im, cv2.COLOR_BGR2GRAY)\n",
    "                radius = 3\n",
    "                # Number of points to be considered as neighbourers \n",
    "                no_points = 8 * radius\n",
    "                # Uniform LBP is used\n",
    "                lbp = local_binary_pattern(im_gray, no_points, radius, method='uniform')\n",
    "                # Calculate the histogram\n",
    "                x = itemfreq(lbp.ravel())\n",
    "                # Normalize the histogram\n",
    "                hist = x[:, 1]/sum(x[:, 1])\n",
    "                X_test.append(hist)\n",
    "                x_test=np.array(X_test)\n",
    "                return x_test.flatten()       \n"
   ]
  },
  {
   "cell_type": "code",
   "execution_count": 7,
   "metadata": {},
   "outputs": [],
   "source": [
    "import cv2, numpy\n",
    "\n",
    "# feature-descriptor-1: Hu Moments(shape)\n",
    "def fd_hu_moments(image):\n",
    "    image = cv2.cvtColor(image, cv2.COLOR_BGR2GRAY)\n",
    "    feature = cv2.HuMoments(cv2.moments(image)).flatten()\n",
    "    return feature"
   ]
  },
  {
   "cell_type": "code",
   "execution_count": null,
   "metadata": {},
   "outputs": [
    {
     "name": "stdout",
     "output_type": "stream",
     "text": [
      "[INFO] Loading images ...\n",
      "[INFO] Processing Bacterial leaf blight ...\n"
     ]
    },
    {
     "name": "stderr",
     "output_type": "stream",
     "text": [
      "C:\\Users\\Harshini\\Anaconda\\lib\\site-packages\\ipykernel_launcher.py:17: DeprecationWarning: `itemfreq` is deprecated!\n",
      "`itemfreq` is deprecated and will be removed in a future version. Use instead `np.unique(..., return_counts=True)`\n"
     ]
    },
    {
     "name": "stdout",
     "output_type": "stream",
     "text": [
      "[INFO] Image loading completed\n",
      "[INFO] Processing Brown spot ...\n",
      "[INFO] Image loading completed\n",
      "[INFO] Processing Leaf smut ...\n"
     ]
    }
   ],
   "source": [
    "#Fetch images from directory and color and shape extraction from diectories\n",
    "fixed_size       = tuple((500, 500))\n",
    "image_list, label_list = [], []\n",
    "global_features = []\n",
    "labels          = []\n",
    "try:\n",
    "    print(\"[INFO] Loading images ...\")\n",
    "    root_dir = listdir(directory_root)\n",
    "    for plant_folder in root_dir :\n",
    "        plant_disease_folder_list = listdir(f\"{directory_root}/{plant_folder}\")\n",
    "        for plant_disease_folder in plant_disease_folder_list:\n",
    "            print(f\"[INFO] Processing {plant_disease_folder} ...\")\n",
    "            plant_disease_image_list = listdir(f\"{directory_root}/{plant_folder}/{plant_disease_folder}/\")\n",
    "            for image in plant_disease_image_list:\n",
    "                image_directory = f\"{directory_root}/{plant_folder}/{plant_disease_folder}/{image}\"\n",
    "                \n",
    "                if image_directory.endswith(\".jpg\") == True or image_directory.endswith(\".JPG\") == True:\n",
    "                    image = cv2.imread(image_directory )\n",
    "                    image = cv2.resize(image, fixed_size)\n",
    "                    fv_hu_moments = fd_hu_moments(image)\n",
    "                    fv_histogram  = fd_histogram(image)\n",
    "                    fv_texture=LBP(image_directory)\n",
    "    \n",
    "                    global_feature = np.hstack([fv_histogram, fv_hu_moments,fv_texture])\n",
    "                    global_features.append(global_feature)\n",
    "                    image_list.append(convert_image_to_array(image_directory))\n",
    "                    label_list.append(plant_disease_folder)\n",
    "            print(\"[INFO] Image loading completed\")  \n",
    "        # encode the target labels\n",
    "    targetNames = np.unique(label_list)\n",
    "    le          = LabelEncoder()\n",
    "    target      = le.fit_transform(label_list)\n",
    "    print(\"[STATUS] training labels encoded...\")\n",
    "\n",
    "    # scale features in the range (0-1)\n",
    "    scaler            = MinMaxScaler(feature_range=(0, 1))\n",
    "    rescaled_features = scaler.fit_transform(global_features)\n",
    "    print(\"[STATUS] feature vector normalized...\")\n",
    "\n",
    "    print(\"[STATUS] target labels shape: {}\".format(target.shape))\n",
    "\n",
    "    # save the feature vector using HDF5\n",
    "    h5f_data = h5py.File(h5_data, 'w')\n",
    "    h5f_data.create_dataset('dataset_1', data=np.array(rescaled_features))\n",
    "\n",
    "    h5f_label = h5py.File(h5_labels, 'w')\n",
    "    h5f_label.create_dataset('dataset_1', data=np.array(target))\n",
    "\n",
    "    h5f_data.close()\n",
    "    h5f_label.close()\n",
    "\n",
    "    print(\"[STATUS] end of training..\")\n",
    "    \n",
    "except Exception as e:\n",
    "    print(f\"Error : {e}\")\n",
    "    \n",
    "       \n",
    "       \n",
    "       \n"
   ]
  },
  {
   "cell_type": "code",
   "execution_count": 11,
   "metadata": {},
   "outputs": [
    {
     "name": "stdout",
     "output_type": "stream",
     "text": [
      "120\n"
     ]
    }
   ],
   "source": [
    "#Get Size of Processed Image\n",
    "\n",
    "image_size = len(image_list)\n",
    "print(image_size)\n"
   ]
  },
  {
   "cell_type": "code",
   "execution_count": 12,
   "metadata": {},
   "outputs": [
    {
     "name": "stdout",
     "output_type": "stream",
     "text": [
      "[STATUS] features shape: (120, 545)\n",
      "[STATUS] labels shape: (120,)\n",
      "[STATUS] training started...\n"
     ]
    }
   ],
   "source": [
    "# get the training labels\n",
    "train_labels = os.listdir(train_path)\n",
    "\n",
    "# sort the training labels\n",
    "train_labels.sort()\n",
    "\n",
    "if not os.path.exists(test_path):\n",
    "    os.makedirs(test_path)\n",
    "\n",
    "# create  the machine learning models\n",
    "models = []\n",
    "models.append(('LR', LogisticRegression(random_state=seed)))\n",
    "models.append(('LDA', LinearDiscriminantAnalysis()))\n",
    "models.append(('KNN', KNeighborsClassifier()))\n",
    "models.append(('CART', DecisionTreeClassifier(random_state=seed)))\n",
    "models.append(('RF', RandomForestClassifier(n_estimators=num_trees, random_state=seed)))\n",
    "models.append(('NB', GaussianNB()))\n",
    "models.append(('SVM', SVC(random_state=seed)))\n",
    "\n",
    "# variables to hold the results and names\n",
    "results = []\n",
    "names   = []\n",
    "\n",
    "# import the feature vector and trained labels\n",
    "h5f_data  = h5py.File(h5_data, 'r')\n",
    "h5f_label = h5py.File(h5_labels, 'r')\n",
    "\n",
    "global_features_string = h5f_data['dataset_1']\n",
    "global_labels_string   = h5f_label['dataset_1']\n",
    "\n",
    "global_features = np.array(global_features_string)\n",
    "global_labels   = np.array(global_labels_string)\n",
    "\n",
    "h5f_data.close()\n",
    "h5f_label.close()\n",
    "\n",
    "# verify the shape of the feature vector and labels\n",
    "print(\"[STATUS] features shape: {}\".format(global_features.shape))\n",
    "print(\"[STATUS] labels shape: {}\".format(global_labels.shape))\n",
    "\n",
    "print(\"[STATUS] training started...\")"
   ]
  },
  {
   "cell_type": "code",
   "execution_count": 13,
   "metadata": {},
   "outputs": [
    {
     "name": "stdout",
     "output_type": "stream",
     "text": [
      "[STATUS] splitted train and test data...\n",
      "Train data  : (108, 545)\n",
      "Test data   : (12, 545)\n",
      "Train labels: (108,)\n",
      "Test labels : (12,)\n"
     ]
    }
   ],
   "source": [
    "# split the training and testing data\n",
    "(trainDataGlobal, testDataGlobal, trainLabelsGlobal, testLabelsGlobal) = train_test_split(np.array(global_features),\n",
    "                                                                                          np.array(global_labels),\n",
    "                                                                                          test_size=test_size,\n",
    "                                                                                          random_state=seed)\n",
    "\n",
    "print(\"[STATUS] splitted train and test data...\")\n",
    "print(\"Train data  : {}\".format(trainDataGlobal.shape))\n",
    "print(\"Test data   : {}\".format(testDataGlobal.shape))\n",
    "print(\"Train labels: {}\".format(trainLabelsGlobal.shape))\n",
    "print(\"Test labels : {}\".format(testLabelsGlobal.shape))"
   ]
  },
  {
   "cell_type": "code",
   "execution_count": 14,
   "metadata": {},
   "outputs": [
    {
     "name": "stdout",
     "output_type": "stream",
     "text": [
      "LR: 0.786364 (0.126442)\n",
      "LDA: 0.568182 (0.241594)\n",
      "KNN: 0.710909 (0.131790)\n",
      "CART: 0.620000 (0.139112)\n"
     ]
    },
    {
     "name": "stderr",
     "output_type": "stream",
     "text": [
      "C:\\Users\\Harshini\\Anaconda\\lib\\site-packages\\sklearn\\discriminant_analysis.py:388: UserWarning: Variables are collinear.\n",
      "  warnings.warn(\"Variables are collinear.\")\n",
      "C:\\Users\\Harshini\\Anaconda\\lib\\site-packages\\sklearn\\discriminant_analysis.py:442: UserWarning: The priors do not sum to 1. Renormalizing\n",
      "  UserWarning)\n",
      "C:\\Users\\Harshini\\Anaconda\\lib\\site-packages\\sklearn\\discriminant_analysis.py:388: UserWarning: Variables are collinear.\n",
      "  warnings.warn(\"Variables are collinear.\")\n",
      "C:\\Users\\Harshini\\Anaconda\\lib\\site-packages\\sklearn\\discriminant_analysis.py:388: UserWarning: Variables are collinear.\n",
      "  warnings.warn(\"Variables are collinear.\")\n",
      "C:\\Users\\Harshini\\Anaconda\\lib\\site-packages\\sklearn\\discriminant_analysis.py:388: UserWarning: Variables are collinear.\n",
      "  warnings.warn(\"Variables are collinear.\")\n",
      "C:\\Users\\Harshini\\Anaconda\\lib\\site-packages\\sklearn\\discriminant_analysis.py:388: UserWarning: Variables are collinear.\n",
      "  warnings.warn(\"Variables are collinear.\")\n",
      "C:\\Users\\Harshini\\Anaconda\\lib\\site-packages\\sklearn\\discriminant_analysis.py:388: UserWarning: Variables are collinear.\n",
      "  warnings.warn(\"Variables are collinear.\")\n",
      "C:\\Users\\Harshini\\Anaconda\\lib\\site-packages\\sklearn\\discriminant_analysis.py:388: UserWarning: Variables are collinear.\n",
      "  warnings.warn(\"Variables are collinear.\")\n",
      "C:\\Users\\Harshini\\Anaconda\\lib\\site-packages\\sklearn\\discriminant_analysis.py:388: UserWarning: Variables are collinear.\n",
      "  warnings.warn(\"Variables are collinear.\")\n",
      "C:\\Users\\Harshini\\Anaconda\\lib\\site-packages\\sklearn\\discriminant_analysis.py:388: UserWarning: Variables are collinear.\n",
      "  warnings.warn(\"Variables are collinear.\")\n",
      "C:\\Users\\Harshini\\Anaconda\\lib\\site-packages\\sklearn\\discriminant_analysis.py:388: UserWarning: Variables are collinear.\n",
      "  warnings.warn(\"Variables are collinear.\")\n"
     ]
    },
    {
     "name": "stdout",
     "output_type": "stream",
     "text": [
      "RF: 0.804545 (0.157525)\n",
      "NB: 0.508182 (0.162544)\n",
      "SVM: 0.148182 (0.060855)\n"
     ]
    },
    {
     "data": {
      "image/png": "[encoded data removed]",
      "text/plain": [
       "<Figure size 432x288 with 1 Axes>"
      ]
     },
     "metadata": {},
     "output_type": "display_data"
    }
   ],
   "source": [
    "\n",
    "# 10-fold cross validation\n",
    "for name, model in models:\n",
    "    kfold = KFold(n_splits=10, random_state=seed)\n",
    "    cv_results = cross_val_score(model, trainDataGlobal, trainLabelsGlobal, cv=kfold, scoring=scoring)\n",
    "    results.append(cv_results)\n",
    "    names.append(name)\n",
    "    msg = \"%s: %f (%f)\" % (name, cv_results.mean(), cv_results.std())\n",
    "    print(msg)\n",
    "\n",
    "# boxplot algorithm comparison\n",
    "fig = pyplot.figure()\n",
    "fig.suptitle('Machine Learning algorithm comparison')\n",
    "ax = fig.add_subplot(111)\n",
    "pyplot.boxplot(results)\n",
    "ax.set_xticklabels(names)\n",
    "pyplot.show()"
   ]
  },
  {
   "cell_type": "code",
   "execution_count": null,
   "metadata": {},
   "outputs": [
    {
     "name": "stderr",
     "output_type": "stream",
     "text": [
      " * Running on http://localhost:7365/ (Press CTRL+C to quit)\n",
      "127.0.0.1 - - [15/Sep/2019 08:01:43] \"\u001b[37mGET / HTTP/1.1\u001b[0m\" 200 -\n",
      "C:\\Users\\Harshini\\Anaconda\\lib\\site-packages\\ipykernel_launcher.py:17: DeprecationWarning: `itemfreq` is deprecated!\n",
      "`itemfreq` is deprecated and will be removed in a future version. Use instead `np.unique(..., return_counts=True)`\n",
      "127.0.0.1 - - [15/Sep/2019 08:01:48] \"\u001b[37mPOST / HTTP/1.1\u001b[0m\" 200 -\n",
      "127.0.0.1 - - [15/Sep/2019 08:01:50] \"\u001b[37mGET / HTTP/1.1\u001b[0m\" 200 -\n"
     ]
    }
   ],
   "source": [
    "from werkzeug.wrappers import Request, Response\n",
    "from flask import Flask,render_template,request\n",
    "import matplotlib.pyplot as plt\n",
    "app = Flask(__name__)\n",
    "UPLOAD_FOLDER = os.path.basename('test')\n",
    "app.config['UPLOAD_FOLDER'] = UPLOAD_FOLDER\n",
    "global success1\n",
    "success1={}\n",
    "@app.route('/',methods=['POST','GET'])\n",
    "def page1():\n",
    "    # create the model - Random Forests\n",
    "        clf  =     DecisionTreeClassifier(random_state=seed)\n",
    "\n",
    "        # fit the training data to the model\n",
    "        clf.fit(trainDataGlobal, trainLabelsGlobal)\n",
    "        if request.method == 'POST':\n",
    "                file1=request.files['image']\n",
    "                file = os.path.join(app.config['UPLOAD_FOLDER'], file1.filename)\n",
    "                image = cv2.imread(file)\n",
    "                image = cv2.resize(image, fixed_size)\n",
    "                fv_hu_moments = fd_hu_moments(image)\n",
    "                fv_histogram  = fd_histogram(image)\n",
    "                fv_texture=LBP(file)\n",
    "                global_feature = np.hstack([fv_histogram,fv_hu_moments,fv_texture]).reshape(-1,1)\n",
    "                scaler = MinMaxScaler(feature_range=(0, 1))\n",
    "                rescaled_feature = scaler.fit_transform(global_feature)\n",
    "                prediction = clf.predict(rescaled_feature.reshape(1,-1))[0]\n",
    "                cv2.putText(image, train_labels[prediction], (20,30), cv2.FONT_HERSHEY_SIMPLEX, 1.0, (0,0,255), 3)\n",
    "                res=plt.imshow(cv2.cvtColor(image, cv2.COLOR_BGR2RGB))\n",
    "                success1['disease']=train_labels[prediction]\n",
    "                return render_template('page2.html',result=success1,image=file)\n",
    "        return render_template('page1.html')        \n",
    "\n",
    "if __name__ == '__main__':\n",
    "    from werkzeug.serving import run_simple\n",
    "    run_simple('localhost', 7365, app)"
   ]
  },
  {
   "cell_type": "code",
   "execution_count": 18,
   "metadata": {},
   "outputs": [
    {
     "name": "stdout",
     "output_type": "stream",
     "text": [
      "{}\n"
     ]
    }
   ],
   "source": [
    "print(success1)"
   ]
  }
 ],
 "metadata": {
  "kernelspec": {
   "display_name": "Python 3",
   "language": "python",
   "name": "python3"
  },
  "language_info": {
   "codemirror_mode": {
    "name": "ipython",
    "version": 3
   },
   "file_extension": ".py",
   "mimetype": "text/x-python",
   "name": "python",
   "nbconvert_exporter": "python",
   "pygments_lexer": "ipython3",
   "version": "3.6.5"
  }
 },
 "nbformat": 4,
 "nbformat_minor": 2
}
